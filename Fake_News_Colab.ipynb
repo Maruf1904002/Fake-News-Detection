{
  "nbformat": 4,
  "nbformat_minor": 5,
  "metadata": {
    "colab": {
      "provenance": [],
      "toc_visible": true,
      "include_colab_link": true
    },
    "language_info": {
      "name": "python"
    },
    "kernelspec": {
      "name": "python3",
      "display_name": "Python 3"
    }
  },
  "cells": [
    {
      "cell_type": "markdown",
      "metadata": {
        "id": "view-in-github",
        "colab_type": "text"
      },
      "source": [
        "<a href=\"https://colab.research.google.com/github/Maruf1904002/Fake-News-Detection/blob/main/Fake_News_Colab.ipynb\" target=\"_parent\"><img src=\"https://colab.research.google.com/assets/colab-badge.svg\" alt=\"Open In Colab\"/></a>"
      ]
    },
    {
      "id": "b97f2710",
      "cell_type": "markdown",
      "source": [
        "# Fake News Detection\n",
        "This notebook downloads the **Fake and Real News Dataset** from Kaggle, preprocesses the data, trains a machine learning model, and evaluates it using accuracy, precision, recall, F1-score, and a confusion matrix."
      ],
      "metadata": {
        "id": "b97f2710"
      }
    },
    {
      "id": "f7259f95",
      "cell_type": "markdown",
      "source": [
        "## Step 1: Setup Kaggle API"
      ],
      "metadata": {
        "id": "f7259f95"
      }
    },
    {
      "id": "75708901",
      "cell_type": "code",
      "metadata": {
        "colab": {
          "base_uri": "https://localhost:8080/",
          "height": 264
        },
        "id": "75708901",
        "outputId": "c676e28a-b95d-45ac-b47d-692132f2a751"
      },
      "execution_count": 1,
      "source": [
        "# Upload kaggle.json from your local machine (Kaggle API key)\n",
        "from google.colab import files\n",
        "files.upload()\n",
        "\n",
        "!mkdir -p ~/.kaggle\n",
        "!cp kaggle.json ~/.kaggle/\n",
        "!chmod 600 ~/.kaggle/kaggle.json\n",
        "\n",
        "# Download dataset from Kaggle\n",
        "!kaggle datasets download -d clmentbisaillon/fake-and-real-news-dataset -p /content\n",
        "!unzip -o /content/fake-and-real-news-dataset.zip -d /content/fake_real_news\n",
        "!ls -l /content/fake_real_news\n"
      ],
      "outputs": [
        {
          "output_type": "display_data",
          "data": {
            "text/plain": [
              "<IPython.core.display.HTML object>"
            ],
            "text/html": [
              "\n",
              "     <input type=\"file\" id=\"files-a165d6e2-0324-45ce-9efb-5c711e5b2c00\" name=\"files[]\" multiple disabled\n",
              "        style=\"border:none\" />\n",
              "     <output id=\"result-a165d6e2-0324-45ce-9efb-5c711e5b2c00\">\n",
              "      Upload widget is only available when the cell has been executed in the\n",
              "      current browser session. Please rerun this cell to enable.\n",
              "      </output>\n",
              "      <script>// Copyright 2017 Google LLC\n",
              "//\n",
              "// Licensed under the Apache License, Version 2.0 (the \"License\");\n",
              "// you may not use this file except in compliance with the License.\n",
              "// You may obtain a copy of the License at\n",
              "//\n",
              "//      http://www.apache.org/licenses/LICENSE-2.0\n",
              "//\n",
              "// Unless required by applicable law or agreed to in writing, software\n",
              "// distributed under the License is distributed on an \"AS IS\" BASIS,\n",
              "// WITHOUT WARRANTIES OR CONDITIONS OF ANY KIND, either express or implied.\n",
              "// See the License for the specific language governing permissions and\n",
              "// limitations under the License.\n",
              "\n",
              "/**\n",
              " * @fileoverview Helpers for google.colab Python module.\n",
              " */\n",
              "(function(scope) {\n",
              "function span(text, styleAttributes = {}) {\n",
              "  const element = document.createElement('span');\n",
              "  element.textContent = text;\n",
              "  for (const key of Object.keys(styleAttributes)) {\n",
              "    element.style[key] = styleAttributes[key];\n",
              "  }\n",
              "  return element;\n",
              "}\n",
              "\n",
              "// Max number of bytes which will be uploaded at a time.\n",
              "const MAX_PAYLOAD_SIZE = 100 * 1024;\n",
              "\n",
              "function _uploadFiles(inputId, outputId) {\n",
              "  const steps = uploadFilesStep(inputId, outputId);\n",
              "  const outputElement = document.getElementById(outputId);\n",
              "  // Cache steps on the outputElement to make it available for the next call\n",
              "  // to uploadFilesContinue from Python.\n",
              "  outputElement.steps = steps;\n",
              "\n",
              "  return _uploadFilesContinue(outputId);\n",
              "}\n",
              "\n",
              "// This is roughly an async generator (not supported in the browser yet),\n",
              "// where there are multiple asynchronous steps and the Python side is going\n",
              "// to poll for completion of each step.\n",
              "// This uses a Promise to block the python side on completion of each step,\n",
              "// then passes the result of the previous step as the input to the next step.\n",
              "function _uploadFilesContinue(outputId) {\n",
              "  const outputElement = document.getElementById(outputId);\n",
              "  const steps = outputElement.steps;\n",
              "\n",
              "  const next = steps.next(outputElement.lastPromiseValue);\n",
              "  return Promise.resolve(next.value.promise).then((value) => {\n",
              "    // Cache the last promise value to make it available to the next\n",
              "    // step of the generator.\n",
              "    outputElement.lastPromiseValue = value;\n",
              "    return next.value.response;\n",
              "  });\n",
              "}\n",
              "\n",
              "/**\n",
              " * Generator function which is called between each async step of the upload\n",
              " * process.\n",
              " * @param {string} inputId Element ID of the input file picker element.\n",
              " * @param {string} outputId Element ID of the output display.\n",
              " * @return {!Iterable<!Object>} Iterable of next steps.\n",
              " */\n",
              "function* uploadFilesStep(inputId, outputId) {\n",
              "  const inputElement = document.getElementById(inputId);\n",
              "  inputElement.disabled = false;\n",
              "\n",
              "  const outputElement = document.getElementById(outputId);\n",
              "  outputElement.innerHTML = '';\n",
              "\n",
              "  const pickedPromise = new Promise((resolve) => {\n",
              "    inputElement.addEventListener('change', (e) => {\n",
              "      resolve(e.target.files);\n",
              "    });\n",
              "  });\n",
              "\n",
              "  const cancel = document.createElement('button');\n",
              "  inputElement.parentElement.appendChild(cancel);\n",
              "  cancel.textContent = 'Cancel upload';\n",
              "  const cancelPromise = new Promise((resolve) => {\n",
              "    cancel.onclick = () => {\n",
              "      resolve(null);\n",
              "    };\n",
              "  });\n",
              "\n",
              "  // Wait for the user to pick the files.\n",
              "  const files = yield {\n",
              "    promise: Promise.race([pickedPromise, cancelPromise]),\n",
              "    response: {\n",
              "      action: 'starting',\n",
              "    }\n",
              "  };\n",
              "\n",
              "  cancel.remove();\n",
              "\n",
              "  // Disable the input element since further picks are not allowed.\n",
              "  inputElement.disabled = true;\n",
              "\n",
              "  if (!files) {\n",
              "    return {\n",
              "      response: {\n",
              "        action: 'complete',\n",
              "      }\n",
              "    };\n",
              "  }\n",
              "\n",
              "  for (const file of files) {\n",
              "    const li = document.createElement('li');\n",
              "    li.append(span(file.name, {fontWeight: 'bold'}));\n",
              "    li.append(span(\n",
              "        `(${file.type || 'n/a'}) - ${file.size} bytes, ` +\n",
              "        `last modified: ${\n",
              "            file.lastModifiedDate ? file.lastModifiedDate.toLocaleDateString() :\n",
              "                                    'n/a'} - `));\n",
              "    const percent = span('0% done');\n",
              "    li.appendChild(percent);\n",
              "\n",
              "    outputElement.appendChild(li);\n",
              "\n",
              "    const fileDataPromise = new Promise((resolve) => {\n",
              "      const reader = new FileReader();\n",
              "      reader.onload = (e) => {\n",
              "        resolve(e.target.result);\n",
              "      };\n",
              "      reader.readAsArrayBuffer(file);\n",
              "    });\n",
              "    // Wait for the data to be ready.\n",
              "    let fileData = yield {\n",
              "      promise: fileDataPromise,\n",
              "      response: {\n",
              "        action: 'continue',\n",
              "      }\n",
              "    };\n",
              "\n",
              "    // Use a chunked sending to avoid message size limits. See b/62115660.\n",
              "    let position = 0;\n",
              "    do {\n",
              "      const length = Math.min(fileData.byteLength - position, MAX_PAYLOAD_SIZE);\n",
              "      const chunk = new Uint8Array(fileData, position, length);\n",
              "      position += length;\n",
              "\n",
              "      const base64 = btoa(String.fromCharCode.apply(null, chunk));\n",
              "      yield {\n",
              "        response: {\n",
              "          action: 'append',\n",
              "          file: file.name,\n",
              "          data: base64,\n",
              "        },\n",
              "      };\n",
              "\n",
              "      let percentDone = fileData.byteLength === 0 ?\n",
              "          100 :\n",
              "          Math.round((position / fileData.byteLength) * 100);\n",
              "      percent.textContent = `${percentDone}% done`;\n",
              "\n",
              "    } while (position < fileData.byteLength);\n",
              "  }\n",
              "\n",
              "  // All done.\n",
              "  yield {\n",
              "    response: {\n",
              "      action: 'complete',\n",
              "    }\n",
              "  };\n",
              "}\n",
              "\n",
              "scope.google = scope.google || {};\n",
              "scope.google.colab = scope.google.colab || {};\n",
              "scope.google.colab._files = {\n",
              "  _uploadFiles,\n",
              "  _uploadFilesContinue,\n",
              "};\n",
              "})(self);\n",
              "</script> "
            ]
          },
          "metadata": {}
        },
        {
          "output_type": "stream",
          "name": "stdout",
          "text": [
            "Saving kaggle.json to kaggle.json\n",
            "Dataset URL: https://www.kaggle.com/datasets/clmentbisaillon/fake-and-real-news-dataset\n",
            "License(s): CC-BY-NC-SA-4.0\n",
            "Downloading fake-and-real-news-dataset.zip to /content\n",
            "  0% 0.00/41.0M [00:00<?, ?B/s]\n",
            "100% 41.0M/41.0M [00:00<00:00, 758MB/s]\n",
            "Archive:  /content/fake-and-real-news-dataset.zip\n",
            "  inflating: /content/fake_real_news/Fake.csv  \n",
            "  inflating: /content/fake_real_news/True.csv  \n",
            "total 113648\n",
            "-rw-r--r-- 1 root root 62789876 Apr 19  2024 Fake.csv\n",
            "-rw-r--r-- 1 root root 53582940 Apr 19  2024 True.csv\n"
          ]
        }
      ]
    },
    {
      "id": "4699e77e",
      "cell_type": "markdown",
      "source": [
        "## Step 2: Import Libraries"
      ],
      "metadata": {
        "id": "4699e77e"
      }
    },
    {
      "id": "6e2bafb3",
      "cell_type": "code",
      "metadata": {
        "id": "6e2bafb3"
      },
      "execution_count": 2,
      "source": [
        "import numpy as np\n",
        "import pandas as pd\n",
        "import matplotlib.pyplot as plt\n",
        "import seaborn as sns\n",
        "\n",
        "from sklearn.model_selection import train_test_split, GridSearchCV\n",
        "from sklearn.feature_extraction.text import TfidfVectorizer\n",
        "from sklearn.pipeline import Pipeline\n",
        "from sklearn.svm import LinearSVC\n",
        "from sklearn.metrics import accuracy_score, classification_report, confusion_matrix\n"
      ],
      "outputs": []
    },
    {
      "id": "7b29190d",
      "cell_type": "markdown",
      "source": [
        "## Step 3: Load Dataset"
      ],
      "metadata": {
        "id": "7b29190d"
      }
    },
    {
      "id": "89937879",
      "cell_type": "code",
      "metadata": {
        "colab": {
          "base_uri": "https://localhost:8080/"
        },
        "id": "89937879",
        "outputId": "cd32e8e9-a194-4d2d-92f5-8ccb06e062cb"
      },
      "execution_count": 3,
      "source": [
        "true_df = pd.read_csv(\"/content/fake_real_news/True.csv\")\n",
        "fake_df = pd.read_csv(\"/content/fake_real_news/Fake.csv\")\n",
        "\n",
        "# Assign labels: 1 = True, 0 = Fake\n",
        "true_df[\"label\"] = 1\n",
        "fake_df[\"label\"] = 0\n",
        "\n",
        "# Merge\n",
        "df = pd.concat([true_df, fake_df], ignore_index=True)\n",
        "df = df.sample(frac=1.0, random_state=42).reset_index(drop=True)\n",
        "\n",
        "# Combine title + text\n",
        "df[\"content\"] = (df[\"title\"].fillna(\"\") + \" \" + df[\"text\"].fillna(\"\")).str.strip()\n",
        "\n",
        "print(df.head())\n",
        "print(\"Class balance:\\n\", df[\"label\"].value_counts())\n"
      ],
      "outputs": [
        {
          "output_type": "stream",
          "name": "stdout",
          "text": [
            "                                               title  \\\n",
            "0   BREAKING: GOP Chairman Grassley Has Had Enoug...   \n",
            "1   Failed GOP Candidates Remembered In Hilarious...   \n",
            "2   Mike Pence’s New DC Neighbors Are HILARIOUSLY...   \n",
            "3  California AG pledges to defend birth control ...   \n",
            "4  AZ RANCHERS Living On US-Mexico Border Destroy...   \n",
            "\n",
            "                                                text       subject  \\\n",
            "0  Donald Trump s White House is in chaos, and th...          News   \n",
            "1  Now that Donald Trump is the presumptive GOP n...          News   \n",
            "2  Mike Pence is a huge homophobe. He supports ex...          News   \n",
            "3  SAN FRANCISCO (Reuters) - California Attorney ...  politicsNews   \n",
            "4  Twisted reasoning is all that comes from Pelos...      politics   \n",
            "\n",
            "               date  label                                            content  \n",
            "0     July 21, 2017      0  BREAKING: GOP Chairman Grassley Has Had Enough...  \n",
            "1       May 7, 2016      0  Failed GOP Candidates Remembered In Hilarious ...  \n",
            "2  December 3, 2016      0  Mike Pence’s New DC Neighbors Are HILARIOUSLY ...  \n",
            "3  October 6, 2017       1  California AG pledges to defend birth control ...  \n",
            "4      Apr 25, 2017      0  AZ RANCHERS Living On US-Mexico Border Destroy...  \n",
            "Class balance:\n",
            " label\n",
            "0    23481\n",
            "1    21417\n",
            "Name: count, dtype: int64\n"
          ]
        }
      ]
    },
    {
      "id": "fd844c65",
      "cell_type": "markdown",
      "source": [
        "## Step 4: Split Dataset"
      ],
      "metadata": {
        "id": "fd844c65"
      }
    },
    {
      "id": "0d641d34",
      "cell_type": "code",
      "metadata": {
        "colab": {
          "base_uri": "https://localhost:8080/"
        },
        "id": "0d641d34",
        "outputId": "a556f03e-5cf2-406b-a76d-25867c75e8d4"
      },
      "execution_count": 4,
      "source": [
        "X = df[\"content\"]\n",
        "y = df[\"label\"]\n",
        "\n",
        "X_train, X_temp, y_train, y_temp = train_test_split(X, y, test_size=0.2, random_state=42, stratify=y)\n",
        "X_val, X_test, y_val, y_test = train_test_split(X_temp, y_temp, test_size=0.5, random_state=42, stratify=y_temp)\n",
        "\n",
        "print(\"Train size:\", len(X_train))\n",
        "print(\"Validation size:\", len(X_val))\n",
        "print(\"Test size:\", len(X_test))\n"
      ],
      "outputs": [
        {
          "output_type": "stream",
          "name": "stdout",
          "text": [
            "Train size: 35918\n",
            "Validation size: 4490\n",
            "Test size: 4490\n"
          ]
        }
      ]
    },
    {
      "id": "0dd91a7f",
      "cell_type": "markdown",
      "source": [
        "## Step 5: Build Model Pipeline"
      ],
      "metadata": {
        "id": "0dd91a7f"
      }
    },
    {
      "id": "9bc9a9f6",
      "cell_type": "code",
      "metadata": {
        "colab": {
          "base_uri": "https://localhost:8080/"
        },
        "id": "9bc9a9f6",
        "outputId": "fd696972-e099-4d42-b67b-3b168f4749a4"
      },
      "execution_count": 5,
      "source": [
        "pipe = Pipeline([\n",
        "    (\"tfidf\", TfidfVectorizer(ngram_range=(1,2), max_df=0.9, min_df=3)),\n",
        "    (\"clf\", LinearSVC())\n",
        "])\n",
        "\n",
        "pipe.fit(X_train, y_train)\n",
        "\n",
        "# Validation performance\n",
        "y_val_pred = pipe.predict(X_val)\n",
        "print(\"Validation Accuracy:\", accuracy_score(y_val, y_val_pred))\n",
        "print(classification_report(y_val, y_val_pred, digits=3))\n"
      ],
      "outputs": [
        {
          "output_type": "stream",
          "name": "stdout",
          "text": [
            "Validation Accuracy: 0.9944320712694877\n",
            "              precision    recall  f1-score   support\n",
            "\n",
            "           0      0.995     0.994     0.995      2348\n",
            "           1      0.993     0.995     0.994      2142\n",
            "\n",
            "    accuracy                          0.994      4490\n",
            "   macro avg      0.994     0.994     0.994      4490\n",
            "weighted avg      0.994     0.994     0.994      4490\n",
            "\n"
          ]
        }
      ]
    },
    {
      "id": "a9060b83",
      "cell_type": "markdown",
      "source": [
        "## Step 6: Test Performance and Metrics"
      ],
      "metadata": {
        "id": "a9060b83"
      }
    },
    {
      "id": "18d1a1e7",
      "cell_type": "code",
      "metadata": {
        "colab": {
          "base_uri": "https://localhost:8080/",
          "height": 584
        },
        "id": "18d1a1e7",
        "outputId": "4d7cdcb3-1191-4160-e782-b3fe29baf826"
      },
      "execution_count": 6,
      "source": [
        "y_test_pred = pipe.predict(X_test)\n",
        "\n",
        "print(\"Test Accuracy:\", accuracy_score(y_test, y_test_pred))\n",
        "print(classification_report(y_test, y_test_pred, digits=3))\n",
        "\n",
        "# Confusion matrix\n",
        "cm = confusion_matrix(y_test, y_test_pred)\n",
        "plt.figure(figsize=(5,4))\n",
        "sns.heatmap(cm, annot=True, fmt=\"d\", cmap=\"Blues\", xticklabels=[\"Fake\",\"Real\"], yticklabels=[\"Fake\",\"Real\"])\n",
        "plt.xlabel(\"Predicted\")\n",
        "plt.ylabel(\"Actual\")\n",
        "plt.title(\"Confusion Matrix\")\n",
        "plt.show()\n"
      ],
      "outputs": [
        {
          "output_type": "stream",
          "name": "stdout",
          "text": [
            "Test Accuracy: 0.9971046770601336\n",
            "              precision    recall  f1-score   support\n",
            "\n",
            "           0      0.997     0.997     0.997      2348\n",
            "           1      0.997     0.997     0.997      2142\n",
            "\n",
            "    accuracy                          0.997      4490\n",
            "   macro avg      0.997     0.997     0.997      4490\n",
            "weighted avg      0.997     0.997     0.997      4490\n",
            "\n"
          ]
        },
        {
          "output_type": "display_data",
          "data": {
            "text/plain": [
              "<Figure size 500x400 with 2 Axes>"
            ],
            "image/png": "[encoded data removed]"
          },
          "metadata": {}
        }
      ]
    },
    {
      "id": "27610270",
      "cell_type": "markdown",
      "source": [
        "## Step 7: Save trained model (Pipeline) to Drive + Load it later"
      ],
      "metadata": {
        "id": "27610270"
      }
    },
    {
      "cell_type": "code",
      "source": [
        "# --- Mount Drive (run each new Colab session) ---\n",
        "from google.colab import drive\n",
        "drive.mount('/content/drive')\n",
        "\n",
        "# --- Save trained pipeline ---\n",
        "# NOTE: We're saving the variable `pipe` (your TF-IDF + LinearSVC Pipeline).\n",
        "# If you used a different variable name (e.g., best_model from GridSearch),\n",
        "# change `pipe` to that variable.\n",
        "import joblib, os, time\n",
        "\n",
        "OUT_DIR = \"/content/drive/MyDrive/fake_news_artifacts\"\n",
        "os.makedirs(OUT_DIR, exist_ok=True)\n",
        "\n",
        "model_filename = \"tfidf_linearSVC_pipeline.joblib\"   # fixed name\n",
        "# Optional: add a timestamped backup copy\n",
        "ts_filename = f\"tfidf_linearSVC_pipeline_{int(time.time())}.joblib\"\n",
        "\n",
        "# Save the current model\n",
        "joblib.dump(pipe, os.path.join(OUT_DIR, model_filename))\n",
        "joblib.dump(pipe, os.path.join(OUT_DIR, ts_filename))\n",
        "\n",
        "print(\"Saved model to:\")\n",
        "print(\" -\", os.path.join(OUT_DIR, model_filename))\n",
        "print(\" -\", os.path.join(OUT_DIR, ts_filename), \"(backup)\")\n",
        "\n",
        "# --- Load the model later (no retraining needed) ---\n",
        "loaded_model_path = os.path.join(OUT_DIR, model_filename)\n",
        "loaded_pipe = joblib.load(loaded_model_path)\n",
        "print(\"Loaded model from:\", loaded_model_path)\n",
        "\n",
        "# Quick sanity check (optional)\n",
        "print(\"Sanity check prediction:\", loaded_pipe.predict([\"Government announces new policy on education.\"])[0])\n"
      ],
      "metadata": {
        "colab": {
          "base_uri": "https://localhost:8080/"
        },
        "id": "rclubY4fW96G",
        "outputId": "4608a443-43ad-4d55-c486-03df105d0d6a"
      },
      "id": "rclubY4fW96G",
      "execution_count": 7,
      "outputs": [
        {
          "output_type": "stream",
          "name": "stdout",
          "text": [
            "Mounted at /content/drive\n",
            "Saved model to:\n",
            " - /content/drive/MyDrive/fake_news_artifacts/tfidf_linearSVC_pipeline.joblib\n",
            " - /content/drive/MyDrive/fake_news_artifacts/tfidf_linearSVC_pipeline_1755339161.joblib (backup)\n",
            "Loaded model from: /content/drive/MyDrive/fake_news_artifacts/tfidf_linearSVC_pipeline.joblib\n",
            "Sanity check prediction: 0\n"
          ]
        }
      ]
    },
    {
      "cell_type": "markdown",
      "source": [
        "## Step 8: Try Prediction on New Text (using the loaded model)"
      ],
      "metadata": {
        "id": "4wiwH4lGX7kO"
      },
      "id": "4wiwH4lGX7kO"
    },
    {
      "id": "f4d532b8",
      "cell_type": "code",
      "metadata": {
        "colab": {
          "base_uri": "https://localhost:8080/"
        },
        "id": "f4d532b8",
        "outputId": "ab03ba7c-d851-4d15-8de7-15eeb755f603"
      },
      "execution_count": 13,
      "source": [
        "def predict_label(text: str, model=None):\n",
        "    model = model or loaded_pipe  # default to the loaded model\n",
        "    pred = model.predict([text])[0]\n",
        "    return \"REAL\" if pred == 1 else \"FAKE\"\n",
        "\n",
        "print(predict_label(\"Shocking! Secret cure for everything revealed by celebrities.\"))\n",
        "print(predict_label(\"NASA’s Perseverance rover has collected rock samples that may contain signs of ancient microbial life on Mars.\"))\n",
        "print(predict_label(\"Bangladesh inaugurated a new bridge over the Padma River to boost connectivity and trade in the region.\"))\n",
        "print(predict_label(\"The World Health Organization announced that a new malaria vaccine has completed successful clinical trials and will be distributed in Africa starting next year.\"))\n",
        "print(predict_label(\"NASA’s Perseverance rover collected rock samples on Mars that could show evidence of ancient microbial life, according to researchers.\"))\n",
        "print(predict_label(\"The Federal Reserve said in a press release that it will keep interest rates steady this quarter, citing ongoing inflation concerns.\"))\n",
        "print(predict_label(\"Bangladesh has officially inaugurated the Padma Bridge, improving national connectivity and boosting trade across the country.\"))\n",
        "print(predict_label(\"Japan has reopened its borders to international tourists as COVID-19 cases continue to decline, the Prime Minister confirmed on Monday.\"))\n",
        "\n",
        "\n"
      ],
      "outputs": [
        {
          "output_type": "stream",
          "name": "stdout",
          "text": [
            "FAKE\n",
            "FAKE\n",
            "REAL\n",
            "FAKE\n",
            "FAKE\n",
            "REAL\n",
            "REAL\n",
            "REAL\n"
          ]
        }
      ]
    }
  ]
}